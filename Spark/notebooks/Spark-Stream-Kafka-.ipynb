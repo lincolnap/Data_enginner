{
 "cells": [
  {
   "cell_type": "code",
   "execution_count": 1,
   "id": "b899ec46-feef-4acf-8075-6469e2b4c34c",
   "metadata": {},
   "outputs": [],
   "source": [
    "from pyspark import SparkConf, __version__ as pyspark_version\n",
    "from pyspark.sql import SparkSession\n",
    "from pyspark.sql.functions import col, from_json\n",
    "from pyspark.sql.types import StructType, StructField, IntegerType, StringType"
   ]
  },
  {
   "cell_type": "code",
   "execution_count": 2,
   "id": "0712ef34-3205-4af7-8d50-d088f974e134",
   "metadata": {},
   "outputs": [],
   "source": [
    "main_pyspark_version = \".\".join(pyspark_version.split(\".\")[:-1])\n",
    "KAFKA_HOST = \"localhost:9094\"\n",
    "packages = f\"org.apache.spark:spark-sql-kafka-0-10_2.12:{main_pyspark_version}.0\""
   ]
  },
  {
   "cell_type": "code",
   "execution_count": null,
   "id": "9340d667-2bb1-4737-be37-266595f75b42",
   "metadata": {},
   "outputs": [],
   "source": []
  },
  {
   "cell_type": "code",
   "execution_count": 3,
   "id": "19de9020-9b31-42b8-a618-b80b12b50af7",
   "metadata": {},
   "outputs": [],
   "source": [
    "def get_spark_session(app_name: str) -> SparkSession:\n",
    "    builder = (\n",
    "        SparkSession.builder.appName(app_name)\n",
    "        .config(\n",
    "            \"spark.jars.packages\",\n",
    "            packages,\n",
    "        ).config(\n",
    "            \"spark.sql.warehouse.dir\", \"file:///spark-warehouse\"\n",
    "        )\n",
    "    )\n",
    "\n",
    "    return builder.enableHiveSupport().getOrCreate()"
   ]
  },
  {
   "cell_type": "code",
   "execution_count": 4,
   "id": "d585ea66-ec1b-4c04-8f39-192895bff68e",
   "metadata": {},
   "outputs": [],
   "source": [
    "def read_data(topic_name):\n",
    "    # Kafka parameters\n",
    "    kafkaParams = {\n",
    "        \"kafka.bootstrap.servers\": \"localhost:9094\",  # Replace with your broker addresses\n",
    "        \"subscribe\":f\"{topic_name}\",  # Replace with your topic name\n",
    "        \"startingOffsets\": \"earliest\",  # or \"earliest\"\n",
    "        \"key.deserializer\": \"org.apache.kafka.common.serialization.StringDeserializer\",\n",
    "        \"value.deserializer\": \"org.apache.kafka.common.serialization.StringDeserializer\"\n",
    "    }\n",
    "    return spark \\\n",
    "        .readStream \\\n",
    "        .format(\"kafka\") \\\n",
    "        .options(**kafkaParams) \\\n",
    "        .load()"
   ]
  },
  {
   "cell_type": "code",
   "execution_count": 5,
   "id": "e0a54862-5c65-40ec-8fc9-e46191f23f83",
   "metadata": {},
   "outputs": [],
   "source": [
    "def process_json():\n",
    "    df = read_data(\"test\")\n",
    "\n",
    "    df = df.selectExpr(\"CAST(value AS STRING)\")\n",
    "    \n",
    "    df.writeStream \\\n",
    "        .outputMode(\"append\") \\\n",
    "        .format(\"console\") \\\n",
    "        .option(\"truncate\", \"false\") \\\n",
    "        .foreach(lambda row: print(row)) \\\n",
    "        .start()\n",
    "\n",
    "    "
   ]
  },
  {
   "cell_type": "code",
   "execution_count": 6,
   "id": "1a625ede-4bdc-44e2-a323-9525ea66a792",
   "metadata": {},
   "outputs": [],
   "source": [
    "spark = get_spark_session(\"kafka-spark-example\")"
   ]
  },
  {
   "cell_type": "code",
   "execution_count": null,
   "id": "c7ec0ffc-06bb-477e-a895-a8f5acac72e8",
   "metadata": {},
   "outputs": [],
   "source": [
    "process_json()"
   ]
  }
 ],
 "metadata": {
  "kernelspec": {
   "display_name": "Python 3 (ipykernel)",
   "language": "python",
   "name": "python3"
  },
  "language_info": {
   "codemirror_mode": {
    "name": "ipython",
    "version": 3
   },
   "file_extension": ".py",
   "mimetype": "text/x-python",
   "name": "python",
   "nbconvert_exporter": "python",
   "pygments_lexer": "ipython3",
   "version": "3.11.6"
  }
 },
 "nbformat": 4,
 "nbformat_minor": 5
}

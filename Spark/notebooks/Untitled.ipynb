{
 "cells": [
  {
   "cell_type": "code",
   "execution_count": 1,
   "id": "9e923985-5ab0-4fa1-a2ce-93c1284dcce8",
   "metadata": {},
   "outputs": [],
   "source": [
    "from pyspark.sql import SparkSession\n",
    "from pyspark.sql.functions import col,from_json\n",
    "import time\n",
    "from pyspark.sql.types import StructType, StructField, IntegerType, StringType"
   ]
  },
  {
   "cell_type": "code",
   "execution_count": 2,
   "id": "4088f9d6-da3d-401d-bf1d-7baa19354d14",
   "metadata": {},
   "outputs": [],
   "source": [
    "# Crear la sesión de Spark\n",
    "spark = SparkSession.builder \\\n",
    "    .appName(\"KafkaSparkStreamingExample\") \\\n",
    "    .config(\"spark.jars.packages\", \"org.apache.spark:spark-sql-kafka-0-10_2.12:3.2.4\") \\\n",
    "    .getOrCreate()\n"
   ]
  },
  {
   "cell_type": "code",
   "execution_count": 3,
   "id": "f2ac9d17-39bc-4600-9145-1a560bdb90b6",
   "metadata": {},
   "outputs": [],
   "source": [
    "schema = StructType([\n",
    "                StructField(\"name\", StringType()),\n",
    "                StructField(\"location\", StringType()),\n",
    "                StructField(\"phone\", StringType()),\n",
    "            ])"
   ]
  },
  {
   "cell_type": "code",
   "execution_count": 4,
   "id": "0846a4f9-75a1-4237-98c7-1dd2da8bca17",
   "metadata": {},
   "outputs": [],
   "source": [
    "\n",
    "# Configuración de lectura desde Kafka\n",
    "kafka_bootstrap_servers = \"kafka:9092\"  # Cambia al host y puerto de tu cluster Kafka\n",
    "kafka_topic = \"test\"  # Nombre del tópico de Kafka\n",
    "\n",
    "kafkaParams = {\n",
    "    \"kafka.bootstrap.servers\": f\"{kafka_bootstrap_servers}\",  # Replace with your broker addresses\n",
    "    \"subscribe\":f\"{kafka_topic}\",  # Replace with your topic name\n",
    "    \"startingOffsets\": \"earliest\",  # or \"earliest\"\n",
    "    \"key.deserializer\": \"org.apache.kafka.common.serialization.StringDeserializer\",\n",
    "    \"value.deserializer\": \"org.apache.kafka.common.serialization.StringDeserializer\"\n",
    "}\n",
    "\n"
   ]
  },
  {
   "cell_type": "code",
   "execution_count": 5,
   "id": "d722df9b-4e90-4b95-ad51-e6384039df41",
   "metadata": {},
   "outputs": [],
   "source": [
    "# Leer datos de Kafka\n",
    "kafka_df = spark.readStream \\\n",
    "    .format(\"kafka\") \\\n",
    "    .options(**kafkaParams)\\\n",
    "    .load()\n"
   ]
  },
  {
   "cell_type": "code",
   "execution_count": 6,
   "id": "abc8089b-4252-4df2-b5a6-042c835ec3cb",
   "metadata": {},
   "outputs": [],
   "source": [
    "query = kafka_df.writeStream.format(\"console\").start()"
   ]
  },
  {
   "cell_type": "code",
   "execution_count": 7,
   "id": "4f00b7ad-d964-4136-ab7a-cf0c3e41e9cb",
   "metadata": {},
   "outputs": [],
   "source": [
    "def wait_events(df_streaming):\n",
    "    while True:\n",
    "        status = df_streaming.status['message']\n",
    "        \n",
    "        print(status)\n",
    "        \n",
    "        if status == 'Stopped':\n",
    "            df_streaming.stop()\n",
    "\n",
    "        \n",
    "        time.sleep(2)\n",
    "        \n",
    "    print('has been stop the transmition')\n",
    "    \n",
    "#        if status == 'Waiting for data to arrive' and time.time() - last_batch_time > 10:\n",
    "#            df_streaming.stop()\n",
    "#            print('The steam was waiting for data and not recibe 10 seconds ago')\n",
    "#        continue"
   ]
  },
  {
   "cell_type": "code",
   "execution_count": 8,
   "id": "dab47188-b40f-455d-b078-520d974b674a",
   "metadata": {},
   "outputs": [
    {
     "data": {
      "text/plain": [
       "{'message': 'Initializing sources',\n",
       " 'isDataAvailable': False,\n",
       " 'isTriggerActive': False}"
      ]
     },
     "execution_count": 8,
     "metadata": {},
     "output_type": "execute_result"
    }
   ],
   "source": [
    "query.status"
   ]
  },
  {
   "cell_type": "code",
   "execution_count": 9,
   "id": "58156f3d-77a8-406b-a605-5def6bdc38d1",
   "metadata": {},
   "outputs": [
    {
     "data": {
      "text/plain": [
       "True"
      ]
     },
     "execution_count": 9,
     "metadata": {},
     "output_type": "execute_result"
    }
   ],
   "source": [
    "query.isActive"
   ]
  },
  {
   "cell_type": "code",
   "execution_count": null,
   "id": "9167cd40-e7ae-49c8-8ce3-65fb5ee716df",
   "metadata": {},
   "outputs": [],
   "source": [
    "wait_events(query)"
   ]
  },
  {
   "cell_type": "code",
   "execution_count": null,
   "id": "ae3f8824-4d72-4844-b01f-15d1b6f71842",
   "metadata": {},
   "outputs": [],
   "source": [
    "break"
   ]
  },
  {
   "cell_type": "code",
   "execution_count": 13,
   "id": "1fc80e2d-4426-4005-b996-18efa1b0f8bc",
   "metadata": {},
   "outputs": [
    {
     "name": "stdout",
     "output_type": "stream",
     "text": [
      "--- Batch ID: 104 ---\n",
      "Key: data, Value: {\"name\": \"Michael Pham\", \"location\": \"Alvarezborough\", \"phone\": \"7458535596\"}\n",
      "--- Batch ID: 105 ---\n",
      "Key: data, Value: {\"name\": \"Regina Davis\", \"location\": \"Fisherburgh\", \"phone\": \"990-566-2659\"}\n",
      "Key: data, Value: {\"name\": \"Molly Ford\", \"location\": \"Williambury\", \"phone\": \"592.311.2153\"}\n",
      "Key: data, Value: {\"name\": \"Samantha Bates\", \"location\": \"Tiffanyville\", \"phone\": \"+1-818-531-9577x6162\"}\n",
      "Key: data, Value: {\"name\": \"Brooke Brown\", \"location\": \"Christinaland\", \"phone\": \"+1-603-213-5736x36577\"}\n",
      "Key: data, Value: {\"name\": \"Bryan Owen\", \"location\": \"Powersshire\", \"phone\": \"001-570-447-6458\"}\n",
      "Key: data, Value: {\"name\": \"Ashley Smith\", \"location\": \"Sanderschester\", \"phone\": \"(571)688-7027\"}\n",
      "Key: data, Value: {\"name\": \"Mrs. Barbara Thomas\", \"location\": \"Shelbystad\", \"phone\": \"(671)464-2489x7941\"}\n",
      "Key: data, Value: {\"name\": \"Jeanette Young\", \"location\": \"East Karla\", \"phone\": \"379.865.9380\"}\n",
      "Key: data, Value: {\"name\": \"Craig Taylor\", \"location\": \"East Brian\", \"phone\": \"877.659.2724\"}\n",
      "Key: data, Value: {\"name\": \"Brian Kim MD\", \"location\": \"West Meredithmouth\", \"phone\": \"875.549.8903x6508\"}\n",
      "Key: data, Value: {\"name\": \"Ryan Davenport\", \"location\": \"West Sophiaport\", \"phone\": \"370-303-8668x48639\"}\n",
      "Key: data, Value: {\"name\": \"Alejandro Morgan\", \"location\": \"Lake Alexandra\", \"phone\": \"001-593-571-9517x885\"}\n",
      "Key: data, Value: {\"name\": \"Jennifer Washington\", \"location\": \"Danaside\", \"phone\": \"259-438-9474x33725\"}\n",
      "Key: data, Value: {\"name\": \"Dr. Joseph Roman\", \"location\": \"East Michael\", \"phone\": \"001-855-267-3471x875\"}\n",
      "Key: data, Value: {\"name\": \"Karen Harris\", \"location\": \"Robbinsmouth\", \"phone\": \"820-929-8999\"}\n",
      "Key: data, Value: {\"name\": \"Meghan Griffin\", \"location\": \"East Cherylstad\", \"phone\": \"467.567.6120x103\"}\n",
      "Key: data, Value: {\"name\": \"Michael Chapman\", \"location\": \"East Tiffanychester\", \"phone\": \"259.760.4028x68167\"}\n",
      "Key: data, Value: {\"name\": \"Holly Scott\", \"location\": \"Harrisonmouth\", \"phone\": \"766-870-8401x0689\"}\n",
      "Key: data, Value: {\"name\": \"Zachary Short\", \"location\": \"Stevenville\", \"phone\": \"+1-250-743-0864x6617\"}\n",
      "Key: data, Value: {\"name\": \"Kyle Doyle\", \"location\": \"Nashland\", \"phone\": \"537-891-9610\"}\n",
      "Key: data, Value: {\"name\": \"Roger Galloway\", \"location\": \"Lake Teresa\", \"phone\": \"(788)880-9013x289\"}\n",
      "Key: data, Value: {\"name\": \"Juan Gonzalez\", \"location\": \"Jacquelineton\", \"phone\": \"+1-737-659-2752x4351\"}\n",
      "Key: data, Value: {\"name\": \"Carrie Salas\", \"location\": \"Lake Lauren\", \"phone\": \"452-391-0075\"}\n",
      "Key: data, Value: {\"name\": \"Anthony Clark\", \"location\": \"East Thomasport\", \"phone\": \"229.476.6877\"}\n",
      "Key: data, Value: {\"name\": \"Melissa Peters\", \"location\": \"Bakerton\", \"phone\": \"7639161145\"}\n",
      "Key: data, Value: {\"name\": \"Jesus Woods\", \"location\": \"Lunaview\", \"phone\": \"001-721-646-1954\"}\n",
      "Key: data, Value: {\"name\": \"Ronald Hawkins\", \"location\": \"Shaunfurt\", \"phone\": \"(688)822-6981x671\"}\n",
      "Key: data, Value: {\"name\": \"Linda Clark\", \"location\": \"New John\", \"phone\": \"(709)939-2656\"}\n",
      "Key: data, Value: {\"name\": \"Richard Owen\", \"location\": \"Christinebury\", \"phone\": \"764-527-4358\"}\n",
      "Key: data, Value: {\"name\": \"Richard Sullivan\", \"location\": \"Port Lindsay\", \"phone\": \"+1-775-955-7251x658\"}\n",
      "Key: data, Value: {\"name\": \"Lisa Moore\", \"location\": \"South Lisaland\", \"phone\": \"3337030260\"}\n",
      "Key: data, Value: {\"name\": \"Jodi Anderson\", \"location\": \"New Sarastad\", \"phone\": \"521.628.9761x5098\"}\n",
      "Key: data, Value: {\"name\": \"Alan Johnson\", \"location\": \"New Marie\", \"phone\": \"314.225.0817x14870\"}\n",
      "Key: data, Value: {\"name\": \"Taylor Peters\", \"location\": \"Reidshire\", \"phone\": \"+1-765-842-9967x1044\"}\n",
      "Key: data, Value: {\"name\": \"John Williamson\", \"location\": \"West Jonathanborough\", \"phone\": \"492.625.8492x53648\"}\n",
      "Key: data, Value: {\"name\": \"David Ramirez\", \"location\": \"Reynoldsmouth\", \"phone\": \"+1-403-592-6606x10174\"}\n",
      "Key: data, Value: {\"name\": \"Richard Flores\", \"location\": \"Millsberg\", \"phone\": \"(866)711-5017\"}\n",
      "Key: data, Value: {\"name\": \"Kristie Gonzalez\", \"location\": \"New John\", \"phone\": \"(942)956-0920x303\"}\n",
      "Key: data, Value: {\"name\": \"Olivia King\", \"location\": \"Howellshire\", \"phone\": \"001-530-866-7542\"}\n",
      "Key: data, Value: {\"name\": \"Vanessa Stout\", \"location\": \"Wilsonbury\", \"phone\": \"(585)492-6965\"}\n",
      "Key: data, Value: {\"name\": \"David Moore\", \"location\": \"North Thomas\", \"phone\": \"001-853-319-6199x492\"}\n",
      "Key: data, Value: {\"name\": \"Marcus Burke\", \"location\": \"Port Tonyaburgh\", \"phone\": \"515-984-6467x09653\"}\n",
      "Key: data, Value: {\"name\": \"Zachary Hudson\", \"location\": \"Heidiland\", \"phone\": \"(999)649-3282\"}\n",
      "Key: data, Value: {\"name\": \"Raymond Kelly\", \"location\": \"Wadeville\", \"phone\": \"(472)947-2603\"}\n",
      "Key: data, Value: {\"name\": \"Lisa Johnson\", \"location\": \"Arroyoview\", \"phone\": \"001-481-335-1974\"}\n",
      "Key: data, Value: {\"name\": \"Jacob Skinner\", \"location\": \"New Jeremiahville\", \"phone\": \"814.637.7321\"}\n",
      "Key: data, Value: {\"name\": \"Emily Fields\", \"location\": \"East Angela\", \"phone\": \"423-650-0802\"}\n",
      "Key: data, Value: {\"name\": \"Miranda Hill\", \"location\": \"Rubenborough\", \"phone\": \"842.681.3097\"}\n",
      "Key: data, Value: {\"name\": \"Nicholas Maynard\", \"location\": \"Mcclureport\", \"phone\": \"+1-231-387-8692x627\"}\n",
      "Key: data, Value: {\"name\": \"Jay Murphy\", \"location\": \"South Valerie\", \"phone\": \"980-801-9728x92181\"}\n",
      "Key: data, Value: {\"name\": \"Mr. Kyle Williams DDS\", \"location\": \"Diazmouth\", \"phone\": \"001-470-605-3953x4156\"}\n",
      "Key: data, Value: {\"name\": \"Abigail Martinez PhD\", \"location\": \"Hernandezmouth\", \"phone\": \"653.960.1296\"}\n",
      "Key: data, Value: {\"name\": \"Cassandra Carroll\", \"location\": \"Jeffreyville\", \"phone\": \"+1-931-652-7814x1592\"}\n",
      "Key: data, Value: {\"name\": \"Mr. Scott Morris\", \"location\": \"Lake Daniel\", \"phone\": \"001-322-386-7596\"}\n",
      "Key: data, Value: {\"name\": \"Mary Johnson\", \"location\": \"West Cynthia\", \"phone\": \"(270)878-7282\"}\n",
      "Key: data, Value: {\"name\": \"Pamela Bailey\", \"location\": \"Austinburgh\", \"phone\": \"001-862-681-1466x068\"}\n",
      "Key: data, Value: {\"name\": \"Rhonda Carroll\", \"location\": \"Lake Samantha\", \"phone\": \"(739)903-2164\"}\n",
      "Key: data, Value: {\"name\": \"Katie Bryant\", \"location\": \"Lake Billy\", \"phone\": \"395-637-0069\"}\n",
      "Key: data, Value: {\"name\": \"Dr. Amy Li\", \"location\": \"Trujillomouth\", \"phone\": \"451.962.0327x041\"}\n",
      "Key: data, Value: {\"name\": \"Kelli Rodriguez\", \"location\": \"North Joshua\", \"phone\": \"6816425028\"}\n",
      "Key: data, Value: {\"name\": \"Cynthia Clark\", \"location\": \"Port Christianland\", \"phone\": \"(516)627-9647x7201\"}\n",
      "Key: data, Value: {\"name\": \"Lee Wilson\", \"location\": \"Port Phyllisland\", \"phone\": \"8292475670\"}\n",
      "Key: data, Value: {\"name\": \"Christopher Dougherty\", \"location\": \"West Alexisburgh\", \"phone\": \"898-996-0747x247\"}\n",
      "Key: data, Value: {\"name\": \"Yolanda Pratt\", \"location\": \"Moranburgh\", \"phone\": \"001-792-883-1020x153\"}\n",
      "Key: data, Value: {\"name\": \"Nathaniel Salas\", \"location\": \"South Nicole\", \"phone\": \"805-770-1439x3824\"}\n",
      "Key: data, Value: {\"name\": \"Darren Smith\", \"location\": \"South Tiffany\", \"phone\": \"948.504.5338x397\"}\n",
      "Key: data, Value: {\"name\": \"Judith Johnson DVM\", \"location\": \"Port Mirandachester\", \"phone\": \"(707)830-1018\"}\n",
      "Key: data, Value: {\"name\": \"Bonnie Morales\", \"location\": \"Rogersside\", \"phone\": \"591-319-2609x120\"}\n",
      "Key: data, Value: {\"name\": \"Richard Peterson\", \"location\": \"Port Brianna\", \"phone\": \"272.226.2849x96360\"}\n",
      "Key: data, Value: {\"name\": \"Christine Terry\", \"location\": \"North Danielshire\", \"phone\": \"2097974780\"}\n",
      "Key: data, Value: {\"name\": \"Erica Fisher\", \"location\": \"Diazmouth\", \"phone\": \"277.709.9023\"}\n",
      "Key: data, Value: {\"name\": \"Amy Johnson\", \"location\": \"West John\", \"phone\": \"435-418-5703\"}\n",
      "Key: data, Value: {\"name\": \"Kyle Morgan\", \"location\": \"Port Thomas\", \"phone\": \"8769876560\"}\n",
      "Key: data, Value: {\"name\": \"Jeffery Goodman\", \"location\": \"Lake Andrea\", \"phone\": \"5223715585\"}\n",
      "Key: data, Value: {\"name\": \"Karen Hernandez\", \"location\": \"Huntmouth\", \"phone\": \"001-546-400-1708x66673\"}\n",
      "Key: data, Value: {\"name\": \"Molly Collins\", \"location\": \"North Ian\", \"phone\": \"(596)313-8740x0013\"}\n",
      "Key: data, Value: {\"name\": \"Michael Rhodes\", \"location\": \"Christineport\", \"phone\": \"286-662-8882\"}\n",
      "Key: data, Value: {\"name\": \"Dr. Emily Elliott\", \"location\": \"West Gary\", \"phone\": \"359.444.7678x1879\"}\n",
      "Key: data, Value: {\"name\": \"William Daniels\", \"location\": \"East Kristin\", \"phone\": \"001-788-229-1039x4876\"}\n",
      "Key: data, Value: {\"name\": \"Victor Massey\", \"location\": \"East Melissa\", \"phone\": \"001-770-857-7484\"}\n",
      "Key: data, Value: {\"name\": \"Jonathan Hubbard\", \"location\": \"Lauramouth\", \"phone\": \"001-268-306-3764x6381\"}\n",
      "Key: data, Value: {\"name\": \"Karen Cole\", \"location\": \"Mcculloughshire\", \"phone\": \"(415)758-6408x53183\"}\n",
      "Key: data, Value: {\"name\": \"Micheal Baker\", \"location\": \"South Samanthaborough\", \"phone\": \"6356314399\"}\n",
      "Key: data, Value: {\"name\": \"Toni Brown\", \"location\": \"Lake Jacobland\", \"phone\": \"941.830.4396x75284\"}\n",
      "Key: data, Value: {\"name\": \"Shawn Allison\", \"location\": \"Burtonchester\", \"phone\": \"+1-992-690-6538\"}\n",
      "Key: data, Value: {\"name\": \"Danielle Lindsey\", \"location\": \"Port Jenniferport\", \"phone\": \"410-839-8670x53294\"}\n",
      "Key: data, Value: {\"name\": \"John Miller\", \"location\": \"Wesleyberg\", \"phone\": \"+1-704-804-1470x001\"}\n",
      "Key: data, Value: {\"name\": \"Laura Henry\", \"location\": \"Robinsonhaven\", \"phone\": \"208.757.7949\"}\n",
      "Key: data, Value: {\"name\": \"James Palmer\", \"location\": \"North Morganland\", \"phone\": \"(619)571-7376x4151\"}\n",
      "Key: data, Value: {\"name\": \"Elizabeth Cruz\", \"location\": \"Grantfort\", \"phone\": \"7125982229\"}\n",
      "Key: data, Value: {\"name\": \"Christine Hall\", \"location\": \"Anthonyhaven\", \"phone\": \"492.768.6200\"}\n",
      "Key: data, Value: {\"name\": \"Melissa Dennis\", \"location\": \"Taylorton\", \"phone\": \"(230)327-6057x3710\"}\n"
     ]
    },
    {
     "name": "stderr",
     "output_type": "stream",
     "text": [
      "ERROR:root:KeyboardInterrupt while sending command.\n",
      "Traceback (most recent call last):\n",
      "  File \"/usr/local/spark/python/lib/py4j-0.10.9.7-src.zip/py4j/java_gateway.py\", line 1038, in send_command\n",
      "    response = connection.send_command(command)\n",
      "               ^^^^^^^^^^^^^^^^^^^^^^^^^^^^^^^^\n",
      "  File \"/usr/local/spark/python/lib/py4j-0.10.9.7-src.zip/py4j/clientserver.py\", line 511, in send_command\n",
      "    answer = smart_decode(self.stream.readline()[:-1])\n",
      "                          ^^^^^^^^^^^^^^^^^^^^^^\n",
      "  File \"/opt/conda/lib/python3.11/socket.py\", line 706, in readinto\n",
      "    return self._sock.recv_into(b)\n",
      "           ^^^^^^^^^^^^^^^^^^^^^^^\n",
      "KeyboardInterrupt\n"
     ]
    },
    {
     "ename": "KeyboardInterrupt",
     "evalue": "",
     "output_type": "error",
     "traceback": [
      "\u001b[0;31m---------------------------------------------------------------------------\u001b[0m",
      "\u001b[0;31mKeyboardInterrupt\u001b[0m                         Traceback (most recent call last)",
      "Cell \u001b[0;32mIn[13], line 21\u001b[0m\n\u001b[1;32m     11\u001b[0m         \u001b[38;5;28mprint\u001b[39m(\u001b[38;5;124mf\u001b[39m\u001b[38;5;124m\"\u001b[39m\u001b[38;5;124mKey: \u001b[39m\u001b[38;5;132;01m{\u001b[39;00mrow[\u001b[38;5;124m'\u001b[39m\u001b[38;5;124mkey\u001b[39m\u001b[38;5;124m'\u001b[39m]\u001b[38;5;132;01m}\u001b[39;00m\u001b[38;5;124m, Value: \u001b[39m\u001b[38;5;132;01m{\u001b[39;00mrow[\u001b[38;5;124m'\u001b[39m\u001b[38;5;124mvalue\u001b[39m\u001b[38;5;124m'\u001b[39m]\u001b[38;5;132;01m}\u001b[39;00m\u001b[38;5;124m\"\u001b[39m)\n\u001b[1;32m     13\u001b[0m query \u001b[38;5;241m=\u001b[39m messages_df\u001b[38;5;241m.\u001b[39mwriteStream \\\n\u001b[1;32m     14\u001b[0m     \u001b[38;5;241m.\u001b[39mforeachBatch(print_messages) \\\n\u001b[1;32m     15\u001b[0m     \u001b[38;5;241m.\u001b[39mtrigger(processingTime\u001b[38;5;241m=\u001b[39m\u001b[38;5;124m\"\u001b[39m\u001b[38;5;124m2 seconds\u001b[39m\u001b[38;5;124m\"\u001b[39m) \\\n\u001b[1;32m     16\u001b[0m     \u001b[38;5;241m.\u001b[39moption(\u001b[38;5;124m'\u001b[39m\u001b[38;5;124mcheckpointLocation\u001b[39m\u001b[38;5;124m'\u001b[39m, \u001b[38;5;124m'\u001b[39m\u001b[38;5;124m./spark_kafka_checkpoint\u001b[39m\u001b[38;5;124m'\u001b[39m)\\\n\u001b[1;32m     17\u001b[0m     \u001b[38;5;241m.\u001b[39moutputMode(\u001b[38;5;124m\"\u001b[39m\u001b[38;5;124mupdate\u001b[39m\u001b[38;5;124m\"\u001b[39m) \\\n\u001b[1;32m     18\u001b[0m     \u001b[38;5;241m.\u001b[39mstart()\n\u001b[0;32m---> 21\u001b[0m \u001b[43mquery\u001b[49m\u001b[38;5;241;43m.\u001b[39;49m\u001b[43mawaitTermination\u001b[49m\u001b[43m(\u001b[49m\u001b[43m)\u001b[49m\n",
      "File \u001b[0;32m/usr/local/spark/python/pyspark/sql/streaming/query.py:221\u001b[0m, in \u001b[0;36mStreamingQuery.awaitTermination\u001b[0;34m(self, timeout)\u001b[0m\n\u001b[1;32m    219\u001b[0m     \u001b[38;5;28;01mreturn\u001b[39;00m \u001b[38;5;28mself\u001b[39m\u001b[38;5;241m.\u001b[39m_jsq\u001b[38;5;241m.\u001b[39mawaitTermination(\u001b[38;5;28mint\u001b[39m(timeout \u001b[38;5;241m*\u001b[39m \u001b[38;5;241m1000\u001b[39m))\n\u001b[1;32m    220\u001b[0m \u001b[38;5;28;01melse\u001b[39;00m:\n\u001b[0;32m--> 221\u001b[0m     \u001b[38;5;28;01mreturn\u001b[39;00m \u001b[38;5;28;43mself\u001b[39;49m\u001b[38;5;241;43m.\u001b[39;49m\u001b[43m_jsq\u001b[49m\u001b[38;5;241;43m.\u001b[39;49m\u001b[43mawaitTermination\u001b[49m\u001b[43m(\u001b[49m\u001b[43m)\u001b[49m\n",
      "File \u001b[0;32m/usr/local/spark/python/lib/py4j-0.10.9.7-src.zip/py4j/java_gateway.py:1321\u001b[0m, in \u001b[0;36mJavaMember.__call__\u001b[0;34m(self, *args)\u001b[0m\n\u001b[1;32m   1314\u001b[0m args_command, temp_args \u001b[38;5;241m=\u001b[39m \u001b[38;5;28mself\u001b[39m\u001b[38;5;241m.\u001b[39m_build_args(\u001b[38;5;241m*\u001b[39margs)\n\u001b[1;32m   1316\u001b[0m command \u001b[38;5;241m=\u001b[39m proto\u001b[38;5;241m.\u001b[39mCALL_COMMAND_NAME \u001b[38;5;241m+\u001b[39m\\\n\u001b[1;32m   1317\u001b[0m     \u001b[38;5;28mself\u001b[39m\u001b[38;5;241m.\u001b[39mcommand_header \u001b[38;5;241m+\u001b[39m\\\n\u001b[1;32m   1318\u001b[0m     args_command \u001b[38;5;241m+\u001b[39m\\\n\u001b[1;32m   1319\u001b[0m     proto\u001b[38;5;241m.\u001b[39mEND_COMMAND_PART\n\u001b[0;32m-> 1321\u001b[0m answer \u001b[38;5;241m=\u001b[39m \u001b[38;5;28;43mself\u001b[39;49m\u001b[38;5;241;43m.\u001b[39;49m\u001b[43mgateway_client\u001b[49m\u001b[38;5;241;43m.\u001b[39;49m\u001b[43msend_command\u001b[49m\u001b[43m(\u001b[49m\u001b[43mcommand\u001b[49m\u001b[43m)\u001b[49m\n\u001b[1;32m   1322\u001b[0m return_value \u001b[38;5;241m=\u001b[39m get_return_value(\n\u001b[1;32m   1323\u001b[0m     answer, \u001b[38;5;28mself\u001b[39m\u001b[38;5;241m.\u001b[39mgateway_client, \u001b[38;5;28mself\u001b[39m\u001b[38;5;241m.\u001b[39mtarget_id, \u001b[38;5;28mself\u001b[39m\u001b[38;5;241m.\u001b[39mname)\n\u001b[1;32m   1325\u001b[0m \u001b[38;5;28;01mfor\u001b[39;00m temp_arg \u001b[38;5;129;01min\u001b[39;00m temp_args:\n",
      "File \u001b[0;32m/usr/local/spark/python/lib/py4j-0.10.9.7-src.zip/py4j/java_gateway.py:1038\u001b[0m, in \u001b[0;36mGatewayClient.send_command\u001b[0;34m(self, command, retry, binary)\u001b[0m\n\u001b[1;32m   1036\u001b[0m connection \u001b[38;5;241m=\u001b[39m \u001b[38;5;28mself\u001b[39m\u001b[38;5;241m.\u001b[39m_get_connection()\n\u001b[1;32m   1037\u001b[0m \u001b[38;5;28;01mtry\u001b[39;00m:\n\u001b[0;32m-> 1038\u001b[0m     response \u001b[38;5;241m=\u001b[39m \u001b[43mconnection\u001b[49m\u001b[38;5;241;43m.\u001b[39;49m\u001b[43msend_command\u001b[49m\u001b[43m(\u001b[49m\u001b[43mcommand\u001b[49m\u001b[43m)\u001b[49m\n\u001b[1;32m   1039\u001b[0m     \u001b[38;5;28;01mif\u001b[39;00m binary:\n\u001b[1;32m   1040\u001b[0m         \u001b[38;5;28;01mreturn\u001b[39;00m response, \u001b[38;5;28mself\u001b[39m\u001b[38;5;241m.\u001b[39m_create_connection_guard(connection)\n",
      "File \u001b[0;32m/usr/local/spark/python/lib/py4j-0.10.9.7-src.zip/py4j/clientserver.py:511\u001b[0m, in \u001b[0;36mClientServerConnection.send_command\u001b[0;34m(self, command)\u001b[0m\n\u001b[1;32m    509\u001b[0m \u001b[38;5;28;01mtry\u001b[39;00m:\n\u001b[1;32m    510\u001b[0m     \u001b[38;5;28;01mwhile\u001b[39;00m \u001b[38;5;28;01mTrue\u001b[39;00m:\n\u001b[0;32m--> 511\u001b[0m         answer \u001b[38;5;241m=\u001b[39m smart_decode(\u001b[38;5;28mself\u001b[39m\u001b[38;5;241m.\u001b[39mstream\u001b[38;5;241m.\u001b[39mreadline()[:\u001b[38;5;241m-\u001b[39m\u001b[38;5;241m1\u001b[39m])\n\u001b[1;32m    512\u001b[0m         logger\u001b[38;5;241m.\u001b[39mdebug(\u001b[38;5;124m\"\u001b[39m\u001b[38;5;124mAnswer received: \u001b[39m\u001b[38;5;132;01m{0}\u001b[39;00m\u001b[38;5;124m\"\u001b[39m\u001b[38;5;241m.\u001b[39mformat(answer))\n\u001b[1;32m    513\u001b[0m         \u001b[38;5;66;03m# Happens when a the other end is dead. There might be an empty\u001b[39;00m\n\u001b[1;32m    514\u001b[0m         \u001b[38;5;66;03m# answer before the socket raises an error.\u001b[39;00m\n",
      "File \u001b[0;32m/opt/conda/lib/python3.11/socket.py:706\u001b[0m, in \u001b[0;36mSocketIO.readinto\u001b[0;34m(self, b)\u001b[0m\n\u001b[1;32m    704\u001b[0m \u001b[38;5;28;01mwhile\u001b[39;00m \u001b[38;5;28;01mTrue\u001b[39;00m:\n\u001b[1;32m    705\u001b[0m     \u001b[38;5;28;01mtry\u001b[39;00m:\n\u001b[0;32m--> 706\u001b[0m         \u001b[38;5;28;01mreturn\u001b[39;00m \u001b[38;5;28;43mself\u001b[39;49m\u001b[38;5;241;43m.\u001b[39;49m\u001b[43m_sock\u001b[49m\u001b[38;5;241;43m.\u001b[39;49m\u001b[43mrecv_into\u001b[49m\u001b[43m(\u001b[49m\u001b[43mb\u001b[49m\u001b[43m)\u001b[49m\n\u001b[1;32m    707\u001b[0m     \u001b[38;5;28;01mexcept\u001b[39;00m timeout:\n\u001b[1;32m    708\u001b[0m         \u001b[38;5;28mself\u001b[39m\u001b[38;5;241m.\u001b[39m_timeout_occurred \u001b[38;5;241m=\u001b[39m \u001b[38;5;28;01mTrue\u001b[39;00m\n",
      "\u001b[0;31mKeyboardInterrupt\u001b[0m: "
     ]
    }
   ],
   "source": [
    "messages_df = kafka_df.select(\n",
    "    col(\"key\").cast(\"string\").alias(\"key\"),(col(\"value\").cast(\"string\").alias(\"value\")))\n",
    "\n",
    "messages_df.select(from_json(col('value'), schema).alias(\"data\")).select((\"data.*\"))\n",
    "\n",
    "messages_df# Imprimir los mensajes usando foreachBatch\n",
    "def print_messages(batch_df, batch_id):\n",
    "    print(f\"--- Batch ID: {batch_id} ---\")\n",
    "    for row in batch_df.collect():  # Recorrer las filas del microbatch\n",
    "        print(f\"Key: {row['key']}, Value: {row['value']}\")\n",
    "\n",
    "query = messages_df.writeStream \\\n",
    "    .foreachBatch(print_messages) \\\n",
    "    .trigger(processingTime=\"2 seconds\") \\\n",
    "    .option('checkpointLocation', './spark_kafka_checkpoint')\\\n",
    "    .outputMode(\"update\") \\\n",
    "    .start()\n",
    "\n",
    "\n",
    "query.awaitTermination()"
   ]
  },
  {
   "cell_type": "code",
   "execution_count": null,
   "id": "7d4dc51c-a3be-4967-be88-248f6d9bca83",
   "metadata": {},
   "outputs": [],
   "source": [
    "query = kafka_df.writeStream.format(\"console\").start()\n",
    "print(query.status)\n",
    "time.sleep(100) # sleep 10 seconds\n",
    "print(query.status)\n",
    "query.stop()"
   ]
  },
  {
   "cell_type": "code",
   "execution_count": null,
   "id": "c256f3d8-79b2-4226-9fd6-f11978e62b07",
   "metadata": {},
   "outputs": [],
   "source": [
    "query = kafka_df.writeStream.format(\"console\").start()\n",
    "print(query.status)\n",
    "time.sleep(10) # sleep 10 seconds\n",
    "print(query.status)\n",
    "query.stop()"
   ]
  },
  {
   "cell_type": "code",
   "execution_count": null,
   "id": "41b4d279-7120-40b2-bfbd-0ec551126e30",
   "metadata": {},
   "outputs": [],
   "source": [
    "query.status['message']"
   ]
  },
  {
   "cell_type": "code",
   "execution_count": null,
   "id": "59f111cc-7262-4e16-af34-6e26291844b7",
   "metadata": {},
   "outputs": [],
   "source": [
    "break"
   ]
  },
  {
   "cell_type": "code",
   "execution_count": null,
   "id": "7f756b58-9da4-48f6-b294-0e9075c7d104",
   "metadata": {},
   "outputs": [],
   "source": [
    "# Convertir clave y valor a cadenas\n",
    "messages_df = kafka_df.select(\n",
    "    col(\"key\").cast(\"string\").alias(\"key\"),(col(\"value\").cast(\"string\").alias(\"value\")))\n",
    "\n",
    "messages_df.select(from_json(col('value'), schema).alias(\"data\")).select((\"data.*\"))\n",
    "\n",
    "messages_df\n",
    "# Imprimir los mensajes usando foreachBatch\n",
    "def print_messages(batch_df, batch_id):\n",
    "    print(f\"--- Batch ID: {batch_id} ---\")\n",
    "    for row in batch_df.collect():  # Recorrer las filas del microbatch\n",
    "        print(f\"Key: {row['key']}, Value: {row['value']}\")\n",
    "\n",
    "query = messages_df.writeStream \\\n",
    "    .foreachBatch(messages_df) \\\n",
    "    .trigger(processingTime=\"2 seconds\") \\\n",
    "    .option('checkpointLocation', './spark_kafka_checkpoint')\\\n",
    "    .outputMode(\"update\") \\\n",
    "    .start()\n",
    "\n",
    "\n",
    "query.awaitTermination()"
   ]
  },
  {
   "cell_type": "markdown",
   "id": "a180bd1d-61ac-4afe-a27f-5e50f0da1c49",
   "metadata": {},
   "source": [
    "# Monitor for inactivity\n",
    "timeout_seconds = 2\n",
    "while query.isActive:\n",
    "    current_time = time.time()\n",
    "\n",
    "    # Stop the query if no messages have been received for the timeout period\n",
    "    if current_time - last_batch_time > timeout_seconds:\n",
    "        print(\"No messages received for 2 seconds. Completing the job...\")\n",
    "        query.stop()\n",
    "\n",
    "# Proceed to the next step\n",
    "print(\"Streaming job completed. Proceeding to the next step...\")"
   ]
  },
  {
   "cell_type": "code",
   "execution_count": null,
   "id": "0013a3bb-cf6e-4b06-84ca-3fd9d32aa307",
   "metadata": {},
   "outputs": [],
   "source": []
  }
 ],
 "metadata": {
  "kernelspec": {
   "display_name": "Python 3 (ipykernel)",
   "language": "python",
   "name": "python3"
  },
  "language_info": {
   "codemirror_mode": {
    "name": "ipython",
    "version": 3
   },
   "file_extension": ".py",
   "mimetype": "text/x-python",
   "name": "python",
   "nbconvert_exporter": "python",
   "pygments_lexer": "ipython3",
   "version": "3.11.6"
  }
 },
 "nbformat": 4,
 "nbformat_minor": 5
}

{
 "cells": [
  {
   "cell_type": "code",
   "execution_count": 1,
   "id": "5a03611d-ec45-433b-8dd9-4092fb557487",
   "metadata": {},
   "outputs": [],
   "source": [
    "import pyspark"
   ]
  },
  {
   "cell_type": "code",
   "execution_count": 2,
   "id": "d843d8f0-d1c5-4ef7-b722-0f94c2e44867",
   "metadata": {},
   "outputs": [],
   "source": [
    "from pyspark.sql import SparkSession\n",
    "from pyspark.sql.functions import col,from_json\n",
    "import time\n",
    "from pyspark.sql.types import StructType, StructField, IntegerType, StringType"
   ]
  },
  {
   "cell_type": "code",
   "execution_count": 9,
   "id": "543d441b-5628-4d92-8152-3ffd7e8e5b43",
   "metadata": {},
   "outputs": [],
   "source": [
    "def kafka_parameters(kafka_bootstrap_servers,kafka_topic):\n",
    "    # Configuración de lectura desde Kafka\n",
    "    kafka_bootstrap_servers = \"kafka:9092\"  # Cambia al host y puerto de tu cluster Kafka\n",
    "    kafka_topic = \"test\"  # Nombre del tópico de Kafka\n",
    "    \n",
    "    kafkaParams = {\n",
    "        \"kafka.bootstrap.servers\": f\"{kafka_bootstrap_servers}\",  # Replace with your broker addresses\n",
    "        \"subscribe\":f\"{kafka_topic}\",  # Replace with your topic name\n",
    "        \"startingOffsets\": \"earliest\",  # or \"earliest\"\n",
    "        \"key.deserializer\": \"org.apache.kafka.common.serialization.StringDeserializer\",\n",
    "        \"value.deserializer\": \"org.apache.kafka.common.serialization.StringDeserializer\"\n",
    "    }\n",
    "        \n",
    "    return kafkaParams\n"
   ]
  },
  {
   "cell_type": "code",
   "execution_count": 13,
   "id": "e2546ae4-2478-4e88-87e2-af1130413b0b",
   "metadata": {},
   "outputs": [],
   "source": [
    "def read_stream(parameters):\n",
    "    # Leer datos de Kafka\n",
    "    kafka_df = spark.readStream \\\n",
    "        .format(\"kafka\") \\\n",
    "        .options(**parameters)\\\n",
    "        .load()\n",
    "    messages_df = kafka_df.select(\n",
    "    col(\"key\").cast(\"string\").alias(\"key\"),(col(\"value\").cast(\"string\").alias(\"value\")))\n",
    "\n",
    "    \n",
    "    def print_messages(batch_df, batch_id):\n",
    "        print(f\"--- Batch ID: {batch_id} ---\")\n",
    "        for row in batch_df.collect():  # Recorrer las filas del microbatch\n",
    "            print(f\"Key: {row['key']}, Value: {row['value']}\")\n",
    "            \n",
    "    #messages_df.select(from_json(col('value'), schema).alias(\"data\")).select((\"data.*\"))\n",
    "    # Imprimir los mensajes usando foreachBatch\n",
    "    \n",
    "    query = messages_df.writeStream \\\n",
    "        .foreachBatch(print_messages) \\\n",
    "        .option('checkpointLocation', './spark_kafka_checkpoint')\\\n",
    "        .outputMode(\"update\") \\\n",
    "        .start()\n",
    "        #.trigger(processingTime=\"2 seconds\") \\\n",
    "    \n",
    "    query.awaitTermination()"
   ]
  },
  {
   "cell_type": "code",
   "execution_count": 14,
   "id": "7c0a4ba1-8d73-4ad0-836d-3efd528fd2d6",
   "metadata": {},
   "outputs": [],
   "source": [
    "def wait_events(df_streaming):\n",
    "    while True:\n",
    "        status = df_streaming.status['message']\n",
    "        \n",
    "        print(status)\n",
    "        \n",
    "        if status == 'Stopped':\n",
    "            df_streaming.stop()\n",
    "\n",
    "        \n",
    "        time.sleep(2)\n",
    "        \n",
    "    print('has been stop the transmition')"
   ]
  },
  {
   "cell_type": "code",
   "execution_count": 15,
   "id": "56200393-32d4-4c33-8d2b-2dfe2db57c75",
   "metadata": {},
   "outputs": [
    {
     "ename": "NameError",
     "evalue": "name 'batch_id' is not defined",
     "output_type": "error",
     "traceback": [
      "\u001b[0;31m---------------------------------------------------------------------------\u001b[0m",
      "\u001b[0;31mNameError\u001b[0m                                 Traceback (most recent call last)",
      "Cell \u001b[0;32mIn[15], line 16\u001b[0m\n\u001b[1;32m      2\u001b[0m spark \u001b[38;5;241m=\u001b[39m SparkSession\u001b[38;5;241m.\u001b[39mbuilder \\\n\u001b[1;32m      3\u001b[0m     \u001b[38;5;241m.\u001b[39mmaster(\u001b[38;5;124m\"\u001b[39m\u001b[38;5;124mspark://bc74c068484d:7077\u001b[39m\u001b[38;5;124m\"\u001b[39m) \\\n\u001b[1;32m      4\u001b[0m     \u001b[38;5;241m.\u001b[39mappName(\u001b[38;5;124m\"\u001b[39m\u001b[38;5;124mKafkaSparkStreamingExample\u001b[39m\u001b[38;5;124m\"\u001b[39m) \\\n\u001b[1;32m      5\u001b[0m     \u001b[38;5;241m.\u001b[39mconfig(\u001b[38;5;124m\"\u001b[39m\u001b[38;5;124mspark.jars.packages\u001b[39m\u001b[38;5;124m\"\u001b[39m, \u001b[38;5;124m\"\u001b[39m\u001b[38;5;124morg.apache.spark:spark-sql-kafka-0-10_2.12:3.2.4\u001b[39m\u001b[38;5;124m\"\u001b[39m) \\\n\u001b[1;32m      6\u001b[0m     \u001b[38;5;241m.\u001b[39mgetOrCreate()\n\u001b[1;32m      8\u001b[0m schema \u001b[38;5;241m=\u001b[39m StructType([\n\u001b[1;32m      9\u001b[0m             StructField(\u001b[38;5;124m\"\u001b[39m\u001b[38;5;124mname\u001b[39m\u001b[38;5;124m\"\u001b[39m, StringType()),\n\u001b[1;32m     10\u001b[0m             StructField(\u001b[38;5;124m\"\u001b[39m\u001b[38;5;124mlocation\u001b[39m\u001b[38;5;124m\"\u001b[39m, StringType()),\n\u001b[1;32m     11\u001b[0m             StructField(\u001b[38;5;124m\"\u001b[39m\u001b[38;5;124mphone\u001b[39m\u001b[38;5;124m\"\u001b[39m, StringType()),\n\u001b[1;32m     12\u001b[0m         ])\n\u001b[0;32m---> 16\u001b[0m \u001b[43mread_stream\u001b[49m\u001b[43m(\u001b[49m\u001b[43mkafka_parameters\u001b[49m\u001b[43m(\u001b[49m\u001b[38;5;124;43m\"\u001b[39;49m\u001b[38;5;124;43mkafka:9092\u001b[39;49m\u001b[38;5;124;43m\"\u001b[39;49m\u001b[43m,\u001b[49m\u001b[38;5;124;43m\"\u001b[39;49m\u001b[38;5;124;43mtest\u001b[39;49m\u001b[38;5;124;43m\"\u001b[39;49m\u001b[43m)\u001b[49m\u001b[43m)\u001b[49m\n",
      "Cell \u001b[0;32mIn[13], line 20\u001b[0m, in \u001b[0;36mread_stream\u001b[0;34m(parameters)\u001b[0m\n\u001b[1;32m     14\u001b[0m         \u001b[38;5;28mprint\u001b[39m(\u001b[38;5;124mf\u001b[39m\u001b[38;5;124m\"\u001b[39m\u001b[38;5;124mKey: \u001b[39m\u001b[38;5;132;01m{\u001b[39;00mrow[\u001b[38;5;124m'\u001b[39m\u001b[38;5;124mkey\u001b[39m\u001b[38;5;124m'\u001b[39m]\u001b[38;5;132;01m}\u001b[39;00m\u001b[38;5;124m, Value: \u001b[39m\u001b[38;5;132;01m{\u001b[39;00mrow[\u001b[38;5;124m'\u001b[39m\u001b[38;5;124mvalue\u001b[39m\u001b[38;5;124m'\u001b[39m]\u001b[38;5;132;01m}\u001b[39;00m\u001b[38;5;124m\"\u001b[39m)\n\u001b[1;32m     16\u001b[0m \u001b[38;5;66;03m#messages_df.select(from_json(col('value'), schema).alias(\"data\")).select((\"data.*\"))\u001b[39;00m\n\u001b[1;32m     17\u001b[0m \u001b[38;5;66;03m# Imprimir los mensajes usando foreachBatch\u001b[39;00m\n\u001b[1;32m     19\u001b[0m query \u001b[38;5;241m=\u001b[39m messages_df\u001b[38;5;241m.\u001b[39mwriteStream \\\n\u001b[0;32m---> 20\u001b[0m     \u001b[38;5;241m.\u001b[39mforeachBatch(print_messages(messages_df, \u001b[43mbatch_id\u001b[49m)) \\\n\u001b[1;32m     21\u001b[0m     \u001b[38;5;241m.\u001b[39moption(\u001b[38;5;124m'\u001b[39m\u001b[38;5;124mcheckpointLocation\u001b[39m\u001b[38;5;124m'\u001b[39m, \u001b[38;5;124m'\u001b[39m\u001b[38;5;124m./spark_kafka_checkpoint\u001b[39m\u001b[38;5;124m'\u001b[39m)\\\n\u001b[1;32m     22\u001b[0m     \u001b[38;5;241m.\u001b[39moutputMode(\u001b[38;5;124m\"\u001b[39m\u001b[38;5;124mupdate\u001b[39m\u001b[38;5;124m\"\u001b[39m) \\\n\u001b[1;32m     23\u001b[0m     \u001b[38;5;241m.\u001b[39mstart()\n\u001b[1;32m     24\u001b[0m     \u001b[38;5;66;03m#.trigger(processingTime=\"2 seconds\") \\\u001b[39;00m\n\u001b[1;32m     26\u001b[0m query\u001b[38;5;241m.\u001b[39mawaitTermination()\n",
      "\u001b[0;31mNameError\u001b[0m: name 'batch_id' is not defined"
     ]
    }
   ],
   "source": [
    "if __name__ == '__main__':\n",
    "    spark = SparkSession.builder \\\n",
    "        .master(\"spark://bc74c068484d:7077\") \\\n",
    "        .appName(\"KafkaSparkStreamingExample\") \\\n",
    "        .config(\"spark.jars.packages\", \"org.apache.spark:spark-sql-kafka-0-10_2.12:3.2.4\") \\\n",
    "        .getOrCreate()\n",
    "    \n",
    "    schema = StructType([\n",
    "                StructField(\"name\", StringType()),\n",
    "                StructField(\"location\", StringType()),\n",
    "                StructField(\"phone\", StringType()),\n",
    "            ])\n",
    "\n",
    "    \n",
    "    \n",
    "    read_stream(kafka_parameters(\"kafka:9092\",\"test\"))\n",
    "    \n",
    "\n",
    "\n",
    "    "
   ]
  },
  {
   "cell_type": "code",
   "execution_count": null,
   "id": "25575531-2132-444c-8c1f-d74bf4e13364",
   "metadata": {},
   "outputs": [],
   "source": []
  },
  {
   "cell_type": "code",
   "execution_count": null,
   "id": "b5eac13c-1498-4a3f-884f-3d6686d076d3",
   "metadata": {},
   "outputs": [],
   "source": []
  }
 ],
 "metadata": {
  "kernelspec": {
   "display_name": "Python 3 (ipykernel)",
   "language": "python",
   "name": "python3"
  },
  "language_info": {
   "codemirror_mode": {
    "name": "ipython",
    "version": 3
   },
   "file_extension": ".py",
   "mimetype": "text/x-python",
   "name": "python",
   "nbconvert_exporter": "python",
   "pygments_lexer": "ipython3",
   "version": "3.11.6"
  }
 },
 "nbformat": 4,
 "nbformat_minor": 5
}

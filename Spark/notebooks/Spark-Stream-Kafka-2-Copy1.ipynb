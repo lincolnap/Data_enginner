{
 "cells": [
  {
   "cell_type": "code",
   "execution_count": 1,
   "id": "b899ec46-feef-4acf-8075-6469e2b4c34c",
   "metadata": {},
   "outputs": [],
   "source": [
    "from pyspark import SparkConf, __version__ as pyspark_version\n",
    "from pyspark.sql import SparkSession\n",
    "from pyspark.sql.functions import *\n",
    "from pyspark.sql.types import StructType, StructField, IntegerType, StringType"
   ]
  },
  {
   "cell_type": "code",
   "execution_count": 2,
   "id": "0712ef34-3205-4af7-8d50-d088f974e134",
   "metadata": {},
   "outputs": [],
   "source": [
    "main_pyspark_version = \".\".join(pyspark_version.split(\".\")[:-1])\n",
    "KAFKA_HOST = \"localhost:9094\"\n",
    "packages = f\"org.apache.spark:spark-sql-kafka-0-10_2.12:{main_pyspark_version}.0\"\n",
    "topic_name = \"test\""
   ]
  },
  {
   "cell_type": "code",
   "execution_count": 3,
   "id": "73f1a577-55f3-4f75-8115-4bf3e1b69757",
   "metadata": {},
   "outputs": [],
   "source": [
    "kafkaParams = {\n",
    "    \"kafka.bootstrap.servers\": \"localhost:9094\",  # Replace with your broker addresses\n",
    "    \"subscribe\":f\"{topic_name}\",  # Replace with your topic name\n",
    "    \"startingOffsets\": \"earliest\",  # or \"earliest\"\n",
    "    \"key.deserializer\": \"org.apache.kafka.common.serialization.StringDeserializer\",\n",
    "    \"value.deserializer\": \"org.apache.kafka.common.serialization.StringDeserializer\"\n",
    "}"
   ]
  },
  {
   "cell_type": "code",
   "execution_count": 4,
   "id": "3f41fd61-b8b3-4cfe-82ec-d35f622fa5a8",
   "metadata": {},
   "outputs": [
    {
     "data": {
      "text/html": [
       "\n",
       "            <div>\n",
       "                <p><b>SparkSession - hive</b></p>\n",
       "                \n",
       "        <div>\n",
       "            <p><b>SparkContext</b></p>\n",
       "\n",
       "            <p><a href=\"http://9feab4d332d1:4041\">Spark UI</a></p>\n",
       "\n",
       "            <dl>\n",
       "              <dt>Version</dt>\n",
       "                <dd><code>v3.5.0</code></dd>\n",
       "              <dt>Master</dt>\n",
       "                <dd><code>local[*]</code></dd>\n",
       "              <dt>AppName</dt>\n",
       "                <dd><code>kafka-spark-example</code></dd>\n",
       "            </dl>\n",
       "        </div>\n",
       "        \n",
       "            </div>\n",
       "        "
      ],
      "text/plain": [
       "<pyspark.sql.session.SparkSession at 0xffff82bfb290>"
      ]
     },
     "execution_count": 4,
     "metadata": {},
     "output_type": "execute_result"
    }
   ],
   "source": [
    "spark = SparkSession.builder.appName(\"kafka-spark-example\")\\\n",
    "            .config(\"spark.jars.packages\",packages)\\\n",
    "            .config(\"spark.sql.warehouse.dir\",\"file:///spark-warehouse\")\n",
    "\n",
    "spark.enableHiveSupport().getOrCreate()"
   ]
  },
  {
   "cell_type": "code",
   "execution_count": 5,
   "id": "f0fb2a78-d877-42f4-806b-f961750b6428",
   "metadata": {},
   "outputs": [
    {
     "ename": "AttributeError",
     "evalue": "'Builder' object has no attribute 'readStream'",
     "output_type": "error",
     "traceback": [
      "\u001b[0;31m---------------------------------------------------------------------------\u001b[0m",
      "\u001b[0;31mAttributeError\u001b[0m                            Traceback (most recent call last)",
      "Cell \u001b[0;32mIn[5], line 1\u001b[0m\n\u001b[0;32m----> 1\u001b[0m df \u001b[38;5;241m=\u001b[39m \u001b[43mspark\u001b[49m\u001b[38;5;241;43m.\u001b[39;49m\u001b[43mreadStream\u001b[49m\u001b[38;5;241m.\u001b[39mformat(\u001b[38;5;124m\"\u001b[39m\u001b[38;5;124mkafka\u001b[39m\u001b[38;5;124m\"\u001b[39m) \\\n\u001b[1;32m      2\u001b[0m         \u001b[38;5;241m.\u001b[39moptions(\u001b[38;5;241m*\u001b[39m\u001b[38;5;241m*\u001b[39mkafkaParams) \\\n\u001b[1;32m      3\u001b[0m         \u001b[38;5;241m.\u001b[39mload()\n",
      "\u001b[0;31mAttributeError\u001b[0m: 'Builder' object has no attribute 'readStream'"
     ]
    }
   ],
   "source": [
    "df = spark.readStream.format(\"kafka\") \\\n",
    "        .options(**kafkaParams) \\\n",
    "        .load()"
   ]
  },
  {
   "cell_type": "code",
   "execution_count": null,
   "id": "050fe6a3-3c56-40e3-9a16-18318b118d54",
   "metadata": {},
   "outputs": [],
   "source": [
    "df.selectExpr(\"CAST(value AS STRING)\")\n",
    "    \n",
    "df.writeStream \\\n",
    "    .outputMode(\"append\") \\\n",
    "    .format(\"console\") \\\n",
    "    .option(\"truncate\", \"false\") \\\n",
    "    .foreach(lambda row: print(row)) \\\n",
    "    .start()"
   ]
  },
  {
   "cell_type": "code",
   "execution_count": null,
   "id": "69caff53-f751-47c4-ba69-e20f62a8e7c7",
   "metadata": {},
   "outputs": [],
   "source": []
  }
 ],
 "metadata": {
  "kernelspec": {
   "display_name": "Python 3 (ipykernel)",
   "language": "python",
   "name": "python3"
  },
  "language_info": {
   "codemirror_mode": {
    "name": "ipython",
    "version": 3
   },
   "file_extension": ".py",
   "mimetype": "text/x-python",
   "name": "python",
   "nbconvert_exporter": "python",
   "pygments_lexer": "ipython3",
   "version": "3.11.6"
  }
 },
 "nbformat": 4,
 "nbformat_minor": 5
}

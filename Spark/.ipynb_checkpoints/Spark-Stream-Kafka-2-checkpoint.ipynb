{
 "cells": [
  {
   "cell_type": "code",
   "execution_count": 1,
   "id": "b899ec46-feef-4acf-8075-6469e2b4c34c",
   "metadata": {},
   "outputs": [],
   "source": [
    "from pyspark.sql import SparkSession\n",
    "from pyspark import SparkConf, __version__ as pyspark_version"
   ]
  },
  {
   "cell_type": "code",
   "execution_count": 2,
   "id": "2ebd1e38-052c-4257-a62e-5fe828c845cc",
   "metadata": {},
   "outputs": [],
   "source": [
    "main_pyspark_version = \".\".join(pyspark_version.split(\".\")[:-1])\n",
    "KAFKA_HOST = \"172.19.0.3:9094\"\n",
    "#packages = f\"org.apache.spark:spark-sql-kafka-0-10_2.12:{main_pyspark_version}.0\"\n",
    "packages = f\"org.apache.spark:spark-sql-kafka-0-10_2.12:3.2.4\"\n",
    "topic_name = \"test\""
   ]
  },
  {
   "cell_type": "code",
   "execution_count": 3,
   "id": "1788ecfa-3bbc-4743-89a6-0e2cbd5d559c",
   "metadata": {},
   "outputs": [],
   "source": [
    "if __name__ == \"__main__\":\n",
    "    spark = (\n",
    "        SparkSession.builder.appName(\"Kafka Pyspark Streaming Learning\")\n",
    "        .master(\"local[*]\")\n",
    "        .config(\"spark.jars.packages\",packages)\n",
    "        .config(\"spark.sql.warehouse.dir\",\"file:///spark-warehouse\")\n",
    "        .getOrCreate()\n",
    "    )\n",
    "    spark.sparkContext.setLogLevel(\"ERROR\")"
   ]
  },
  {
   "cell_type": "code",
   "execution_count": 4,
   "id": "0712ef34-3205-4af7-8d50-d088f974e134",
   "metadata": {},
   "outputs": [],
   "source": [
    "kafkaParams = {\n",
    "    \"kafka.bootstrap.servers\": \"172.19.0.3:9094\",  # Replace with your broker addresses\n",
    "    \"subscribe\":f\"{topic_name}\",  # Replace with your topic name\n",
    "    \"startingOffsets\": \"earliest\",  # or \"earliest\"\n",
    "    \"key.deserializer\": \"org.apache.kafka.common.serialization.StringDeserializer\",\n",
    "    \"value.deserializer\": \"org.apache.kafka.common.serialization.StringDeserializer\"\n",
    "}"
   ]
  },
  {
   "cell_type": "code",
   "execution_count": 5,
   "id": "73260401-0af7-4201-8bda-4f5c5987d0a5",
   "metadata": {},
   "outputs": [],
   "source": [
    "#df = spark.read \\\n",
    "#    .format(\"kafka\") \\\n",
    "#    .option(\"kafka.bootstrap.servers\", \"172.19.0.3:9092\") \\\n",
    "#    .option(\"subscribe\", \"test\") \\\n",
    "#    .load()"
   ]
  },
  {
   "cell_type": "code",
   "execution_count": 6,
   "id": "93529efa-e334-43dc-b060-fb5b2d0dc6ad",
   "metadata": {},
   "outputs": [],
   "source": [
    "#df.show()"
   ]
  },
  {
   "cell_type": "code",
   "execution_count": null,
   "id": "7814e390-9bfd-4b45-b60d-7628a499d80e",
   "metadata": {},
   "outputs": [],
   "source": [
    "# Lee datos desde Kafka\n",
    "df = spark.readStream \\\n",
    "    .format(\"kafka\") \\\n",
    "    .options(**kafkaParams)\\\n",
    "    .load()\n",
    "\n",
    "df.selectExpr(\"CAST(key AS STRING)\", \"CAST(value AS STRING)\") \\\n",
    "  .writeStream \\\n",
    "  .format(\"kafka\") \\\n",
    "  .trigger(processingTime=\"10 seconds\") \\\n",
    "  .option('topic', \"test\") \\\n",
    "  .option('checkpointLocation', './spark_kafka_checkpoint')\\\n",
    "  .start() \\\n",
    "  .awaitTermination()\n",
    "\n",
    "\n",
    "df.show()"
   ]
  },
  {
   "cell_type": "code",
   "execution_count": null,
   "id": "69caff53-f751-47c4-ba69-e20f62a8e7c7",
   "metadata": {},
   "outputs": [],
   "source": []
  }
 ],
 "metadata": {
  "kernelspec": {
   "display_name": "Python 3 (ipykernel)",
   "language": "python",
   "name": "python3"
  },
  "language_info": {
   "codemirror_mode": {
    "name": "ipython",
    "version": 3
   },
   "file_extension": ".py",
   "mimetype": "text/x-python",
   "name": "python",
   "nbconvert_exporter": "python",
   "pygments_lexer": "ipython3",
   "version": "3.11.6"
  }
 },
 "nbformat": 4,
 "nbformat_minor": 5
}
